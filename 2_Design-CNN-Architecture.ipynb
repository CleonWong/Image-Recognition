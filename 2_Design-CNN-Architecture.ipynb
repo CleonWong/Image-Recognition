{
 "cells": [
  {
   "cell_type": "markdown",
   "metadata": {},
   "source": [
    "# 2. Design CNN Architecture for Classification\n",
    "\n",
    "In this notebook, we will design a Convolutional Neural Network (CNN) architecture to classify the [Fashion-MNIST](https://github.com/zalandoresearch/fashion-mnist) images that we prepared in the previous notebook.\n",
    "\n",
    "### Outline of this notebook\n",
    ">1. Load the data (already covered in previous notebook)\n",
    "<br>\n",
    "<br>\n",
    "2. Define the CNN architecture\n",
    "    - 2.1: Feedforward\n",
    "    - 2.2: Loss function and optimiser\n",
    "\n",
    "---\n",
    "\n",
    "### 1. Load the data\n",
    "\n",
    "Refer to the previous notebook for a detailed walkthrough of the following code."
   ]
  },
  {
   "cell_type": "code",
   "execution_count": 4,
   "metadata": {
    "collapsed": true
   },
   "outputs": [],
   "source": [
    "import numpy as np\n",
    "import torch\n",
    "import torchvision\n",
    "from torchvision import datasets\n",
    "from torchvision import transforms\n",
    "from torch.utils.data.sampler import SubsetRandomSampler\n",
    "\n",
    "train_set = datasets.FashionMNIST(root = 'FashionMNIST_data', train = True, download = True)\n",
    "test_set = datasets.FashionMNIST(root = 'FashionMNIST_data', train = False, download = True)\n",
    "\n",
    "validation = 0.2\n",
    "\n",
    "training_size = len(train_set)\n",
    "indices = list(range(training_size))\n",
    "np.random.shuffle(indices)\n",
    "split = int(np.floor(validation * training_size))\n",
    "train_index = indices[:split]\n",
    "validation_index = indices[split:]\n",
    "train_sampler = SubsetRandomSampler(train_index)\n",
    "validation_sampler = SubsetRandomSampler(validation_index)\n",
    "\n",
    "train_transform = transforms.Compose([transforms.RandomHorizontalFlip(),\n",
    "                                      transforms.ToTensor(),\n",
    "                                      transforms.Normalize((0.5, ), (0.5, ))])\n",
    "\n",
    "test_transform = transforms.Compose([transforms.ToTensor(),\n",
    "                                     transforms.Normalize((0.5, ), (0.5, ))])\n",
    "\n",
    "train_set = datasets.FashionMNIST(root='./FashionMNIST_data', train=True, download=False, transform=train_transform)\n",
    "test_set = datasets.FashionMNIST(root='./FashionMNIST_data', train=False, download=False, transform=test_transform)\n",
    "\n",
    "batch_size = 64\n",
    "\n",
    "train_loader = torch.utils.data.DataLoader(train_set,\n",
    "                                           batch_size = batch_size,\n",
    "                                           sampler = train_sampler, \n",
    "                                           shuffle = False)\n",
    "\n",
    "validation_loader = torch.utils.data.DataLoader(train_set, \n",
    "                                                batch_size = batch_size, \n",
    "                                                sampler = validation_sampler, \n",
    "                                                shuffle = False)\n",
    "\n",
    "test_loader = torch.utils.data.DataLoader(test_set, \n",
    "                                          batch_size = batch_size, \n",
    "                                          shuffle = True)\n",
    "\n",
    "classes = ['T-shirt/top', 'Trouser', 'Pullover', 'Dress', 'Coat', \n",
    "           'Sandal', 'Shirt', 'Sneaker', 'Bag', 'Ankle boot']"
   ]
  },
  {
   "cell_type": "markdown",
   "metadata": {},
   "source": [
    "---\n",
    "\n",
    "### 2. Design the CNN architecture\n",
    "\n",
    "For a CNN, the typical series of layers are:\n",
    "- _Convolutional layers_: Apply a convolution operation to the input.\n",
    "- _Maxpooling layers_: Combines the outputs of clusters of neurons into a single neuron in the next layer.\n",
    "- _Fully-connected layers_: Connect every neuron in one layer to every neuron in the next layer.\n",
    "\n",
    "We will use `nn.Conv2d` to create the convolutional layers. From the [documentation](https://pytorch.org/docs/stable/_modules/torch/nn/modules/conv.html), the arguments that we are interested in are `nn.Conv2d('in_channels', 'out_channels', 'kernel_size', 'padding')`, where:\n",
    "- `in_channels` is the depth of the input matrix from this particular layer.\n",
    "- `out_channels` is the depth of the output matrix from this particular layer.\n",
    "- `kernel_size` is the width (or height) of the filter.\n",
    "- `padding` is the width of the padding around the image, measured in number of pixels.\n",
    "\n",
    "#### 2.1: Feedforward"
   ]
  },
  {
   "cell_type": "code",
   "execution_count": 5,
   "metadata": {
    "collapsed": true
   },
   "outputs": [],
   "source": [
    "import torch.nn as nn\n",
    "import torch.nn.functional as F\n",
    "\n",
    "num_filters = 10\n",
    "kernel_size = 3\n",
    "padding = 1\n",
    "\n",
    "class CNN(nn.Module):\n",
    "    \n",
    "    def __init__(self):\n",
    "        super(CNN, self).__init__()\n",
    "        # Convolutional layer 1 (sees 28x28x1 image tensor)\n",
    "        self.conv1 = nn.Conv2d(1, num_filters, kernel_size, padding = padding)\n",
    "        # Convolutional layer 2 (sees a 14x14x10 tensor)\n",
    "        self.conv2 = nn.Conv2d(num_filters, 20, kernel_size, padding = padding)\n",
    "        # Maxpooling layer of size 2x2\n",
    "        self.pool = nn.MaxPool2d(2, 2)\n",
    "        # Fully-connected linear layer 1 (sees a 7x7x20 tensor -> 300)\n",
    "        self.fc1 = nn.Linear(7 * 7 * 20, 300)\n",
    "        # Fully-connected linear layer 2 (300 -> 10)\n",
    "        self.fc2 = nn.Linear(300, 10)\n",
    "        # Dropout layer (p=0.2)\n",
    "        self.dropout = nn.Dropout(0.2)\n",
    "        \n",
    "    def forward(self, x):\n",
    "        # Design sequence of convolutional and pooling layers\n",
    "        x = self.pool(F.relu(self.conv1(x)))\n",
    "        x = self.pool(F.relu(self.conv2(x)))\n",
    "        # Flatten image input into a row vector to feed into the fully-connected layers\n",
    "        x = x.view(-1, 7 * 7 * 20)\n",
    "        # Add dropout layer\n",
    "        x = self.dropout(x)\n",
    "        # Add fully-connected layer 1\n",
    "        x = F.relu(self.fc1(x))\n",
    "        # Add dropout layer\n",
    "        x = self.dropout(x)\n",
    "        # Add fully-connected layer 2\n",
    "        x = F.relu(self.fc2(x))\n",
    "        return x"
   ]
  },
  {
   "cell_type": "code",
   "execution_count": 6,
   "metadata": {},
   "outputs": [
    {
     "name": "stdout",
     "output_type": "stream",
     "text": [
      "CNN(\n",
      "  (conv1): Conv2d(1, 10, kernel_size=(3, 3), stride=(1, 1), padding=(1, 1))\n",
      "  (conv2): Conv2d(14, 20, kernel_size=(3, 3), stride=(1, 1), padding=(1, 1))\n",
      "  (pool): MaxPool2d(kernel_size=2, stride=2, padding=0, dilation=1, ceil_mode=False)\n",
      "  (fc1): Linear(in_features=980, out_features=300, bias=True)\n",
      "  (fc2): Linear(in_features=300, out_features=10, bias=True)\n",
      "  (dropout): Dropout(p=0.2, inplace=False)\n",
      ")\n"
     ]
    }
   ],
   "source": [
    "# Instantiate our CNN\n",
    "model = CNN()\n",
    "print(model)"
   ]
  },
  {
   "cell_type": "markdown",
   "metadata": {},
   "source": [
    "#### 2.2: Loss Function and Optimiser"
   ]
  },
  {
   "cell_type": "code",
   "execution_count": 7,
   "metadata": {
    "collapsed": true
   },
   "outputs": [],
   "source": [
    "# Specify loss function\n",
    "criterion = nn.CrossEntropyLoss()\n",
    "\n",
    "# Specify optimiser\n",
    "optimiser = torch.optim.SGD(model.parameters(), lr=0.03)"
   ]
  }
 ],
 "metadata": {
  "kernelspec": {
   "display_name": "Python 3",
   "language": "python",
   "name": "python3"
  },
  "language_info": {
   "codemirror_mode": {
    "name": "ipython",
    "version": 3
   },
   "file_extension": ".py",
   "mimetype": "text/x-python",
   "name": "python",
   "nbconvert_exporter": "python",
   "pygments_lexer": "ipython3",
   "version": "3.6.3"
  }
 },
 "nbformat": 4,
 "nbformat_minor": 2
}
